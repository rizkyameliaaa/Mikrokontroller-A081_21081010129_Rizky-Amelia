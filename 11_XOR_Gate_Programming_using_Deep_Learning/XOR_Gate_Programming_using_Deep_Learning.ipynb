{
 "cells": [
  {
   "cell_type": "markdown",
   "id": "49922eca",
   "metadata": {},
   "source": [
    "# XOR Gate Programming using Deep Learning"
   ]
  },
  {
   "cell_type": "raw",
   "id": "6e239ded",
   "metadata": {},
   "source": [
    "By: IO-T.NET Team (https://io-t.net/itclab)"
   ]
  },
  {
   "cell_type": "code",
   "execution_count": 1,
   "id": "4aeddbdf",
   "metadata": {},
   "outputs": [],
   "source": [
    "# Library yg dibutuhkan\n",
    "import numpy as np"
   ]
  },
  {
   "cell_type": "code",
   "execution_count": 2,
   "id": "312606b1",
   "metadata": {},
   "outputs": [],
   "source": [
    "# Pasangan data latih\n",
    "\n",
    "XOR_X = np.array([\n",
    "    [0, 0],\n",
    "    [0, 1],\n",
    "    [1, 0],\n",
    "    [1, 1]\n",
    "])\n",
    "\n",
    "XOR_Y = np.array([\n",
    "    [0],\n",
    "    [1],\n",
    "    [1],\n",
    "    [0]\n",
    "])"
   ]
  },
  {
   "cell_type": "markdown",
   "id": "bf5c145e",
   "metadata": {},
   "source": [
    "### Arsitektur Deep Learning\n",
    "Arsitektur Deep Learning dengan Dua Masukan dan Satu Keluaran"
   ]
  },
  {
   "cell_type": "markdown",
   "id": "cf5a0863",
   "metadata": {},
   "source": [
    "![arsitektur_DL](Gerbang_XOR.jpg)"
   ]
  },
  {
   "cell_type": "code",
   "execution_count": null,
   "id": "2b875363",
   "metadata": {},
   "outputs": [],
   "source": [
    "# Impor `Sequential` dari` keras.models`\n",
    "from keras.models import Sequential\n",
    "\n",
    "# Impor `Dense` dari` keras.layers`\n",
    "from keras.layers import Dense\n",
    "\n",
    "# Inisialisasi konstruktor\n",
    "model = Sequential()\n",
    "\n",
    "# Tambahkan lapisan masukan \n",
    "model.add(Dense(2, activation='sigmoid', input_shape=(2,)))\n",
    "\n",
    "# Tambahkan satu lapisan tersembunyi\n",
    "model.add(Dense(2, activation='sigmoid'))\n",
    "\n",
    "# Tambahkan lapisan keluaran\n",
    "model.add(Dense(1, activation='sigmoid'))"
   ]
  },
  {
   "cell_type": "markdown",
   "id": "0c276d45",
   "metadata": {},
   "source": [
    "Ketikkan skrip berikut ini, untuk model Deep Learning-nya, dan dapatkan bobot-bobot dan bias awal."
   ]
  },
  {
   "cell_type": "code",
   "execution_count": null,
   "id": "c72c87b8",
   "metadata": {},
   "outputs": [],
   "source": [
    "# Bentuk keluaran model\n",
    "model.output_shape\n",
    "\n",
    "# Ringkasan model\n",
    "model.summary()\n",
    "\n",
    "# Konfigurasi model\n",
    "model.get_config()\n",
    "\n",
    "# Buat daftar semua tensor bobot \n",
    "model.get_weights()"
   ]
  },
  {
   "cell_type": "markdown",
   "id": "57d2a1b5",
   "metadata": {},
   "source": [
    "Untuk pelatihan Deep Learning silahkan ketikkan skrip berikut."
   ]
  },
  {
   "cell_type": "code",
   "execution_count": null,
   "id": "ed4683b0",
   "metadata": {},
   "outputs": [],
   "source": [
    "model.compile(loss='binary_crossentropy',\n",
    "              optimizer='adam',\n",
    "              metrics=['accuracy'])\n",
    "                   \n",
    "model.fit(XOR_X, XOR_Y,epochs=1000, batch_size=1, verbose=1)"
   ]
  },
  {
   "cell_type": "code",
   "execution_count": null,
   "id": "41ace44a",
   "metadata": {},
   "outputs": [],
   "source": [
    "Hasil_Prediksi_Keras = model.predict(XOR_X)\n",
    "print(Hasil_Prediksi_Keras)"
   ]
  },
  {
   "cell_type": "code",
   "execution_count": null,
   "id": "52977d62",
   "metadata": {},
   "outputs": [],
   "source": [
    "import matplotlib.pyplot as plt\n",
    "plt.plot(XOR_Y, 'bo', label='Target', linewidth=2, markersize=12)\n",
    "plt.plot(Hasil_Prediksi_Keras, 'r+', label='Keras Output', linewidth=2, markersize=12)\n",
    "plt.legend(loc='upper right')\n",
    "plt.show()"
   ]
  },
  {
   "cell_type": "code",
   "execution_count": null,
   "id": "a8e13d18",
   "metadata": {},
   "outputs": [],
   "source": [
    "from sklearn.metrics import mean_squared_error\n",
    "from math import sqrt\n",
    "mse2  = mean_squared_error(XOR_Y, Hasil_Prediksi_Keras)\n",
    "rmse2 = sqrt(mean_squared_error(XOR_Y, Hasil_Prediksi_Keras))\n",
    "print('MSE =',mse2)\n",
    "print('RMSE =',rmse2)"
   ]
  },
  {
   "cell_type": "code",
   "execution_count": null,
   "id": "5ffd5ad0",
   "metadata": {},
   "outputs": [],
   "source": []
  }
 ],
 "metadata": {
  "kernelspec": {
   "display_name": "Python 3",
   "language": "python",
   "name": "python3"
  },
  "language_info": {
   "codemirror_mode": {
    "name": "ipython",
    "version": 3
   },
   "file_extension": ".py",
   "mimetype": "text/x-python",
   "name": "python",
   "nbconvert_exporter": "python",
   "pygments_lexer": "ipython3",
   "version": "3.11.9"
  }
 },
 "nbformat": 4,
 "nbformat_minor": 5
}
